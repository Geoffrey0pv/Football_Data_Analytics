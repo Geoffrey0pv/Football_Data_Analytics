{
  "cells": [
    {
      "cell_type": "markdown",
      "metadata": {
        "id": "eNgnrJ0_FOGC"
      },
      "source": [
        "## **APPLICATION WORKSHOP 1: Scouting Case**"
      ]
    },
    {
      "cell_type": "markdown",
      "metadata": {
        "id": "8VMQi4MyFOEs"
      },
      "source": [
        "* ***Geoffrey Pasaje - A03380495***\n",
        "* ***Mateo Rubio -***"
      ]
    },
    {
      "cell_type": "markdown",
      "metadata": {},
      "source": [
        "You are part of the data analytics team at Sunderland AFC, a club in the English second division. Your team has been assigned to work on a project related to **recruiting players (scouting)**.\n",
        "\n",
        "For this, you have access to a **FIFA video game database** that contains real information on **22,080 players worldwide**, collected in **February 2023**. This data is reliable, as the company has more than **6,000 scouts** across the world who continuously evaluate players' performance.\n",
        "\n",
        "Your supervisor has asked you to provide a **description of the database** to better understand how it can be used. The dataset includes a **sheet with the variable dictionary**. Be sure to consult this information to understand the data properly.\n"
      ]
    },
    {
      "cell_type": "markdown",
      "metadata": {},
      "source": [
        "* Import libraries"
      ]
    },
    {
      "cell_type": "code",
      "execution_count": 1,
      "metadata": {
        "id": "VLSp_XDB0Ycu"
      },
      "outputs": [],
      "source": [
        "import pandas as pd\n",
        "import matplotlib.pyplot as plt\n",
        "import numpy as np\n",
        "import seaborn as sns\n",
        "from scipy.stats import f_oneway\n"
      ]
    },
    {
      "cell_type": "markdown",
      "metadata": {},
      "source": [
        "* Import dataset throughout google colab"
      ]
    },
    {
      "cell_type": "code",
      "execution_count": 2,
      "metadata": {
        "colab": {
          "base_uri": "https://localhost:8080/"
        },
        "id": "6axq89Py0MCg",
        "outputId": "3077f9e1-6d74-42ef-8a75-b0a51fff50f4"
      },
      "outputs": [],
      "source": [
        "# from google.colab import drive\n",
        "# drive.mount('/content/drive')"
      ]
    },
    {
      "cell_type": "code",
      "execution_count": 3,
      "metadata": {
        "id": "qCuys4Z80t8t"
      },
      "outputs": [],
      "source": [
        "# dataset = pd.read_csv('/content/drive/MyDrive/APO 3/Semana 2/base_taller.csv', sep=';', na_values=[' ', ''])              # Como el archivo contiene algunos caracteres vacíos, con este comando pandas los interpreta como na (valores faltantes).\n"
      ]
    },
    {
      "cell_type": "markdown",
      "metadata": {},
      "source": [
        "* Import dataset throughout local files"
      ]
    },
    {
      "cell_type": "code",
      "execution_count": 4,
      "metadata": {},
      "outputs": [],
      "source": [
        "dataset = pd.read_csv('base_taller.csv', sep=';', na_values=[' ', ''])              # Como el archivo contiene algunos caracteres vacíos, con este comando pandas los interpreta como na (valores faltantes)."
      ]
    },
    {
      "cell_type": "markdown",
      "metadata": {
        "id": "KHX8FNoC2eDK"
      },
      "source": [
        "* ***What does this file contain? What does it look like?***"
      ]
    },
    {
      "cell_type": "markdown",
      "metadata": {
        "id": "Xmd4H8Z02foj"
      },
      "source": [
        "this dataset contains information about 22.080 football player from whole world"
      ]
    },
    {
      "cell_type": "code",
      "execution_count": 5,
      "metadata": {
        "colab": {
          "base_uri": "https://localhost:8080/",
          "height": 652
        },
        "id": "xA89b46I0qBr",
        "outputId": "97dc5280-aab4-4e37-a347-5bda4da07840"
      },
      "outputs": [
        {
          "data": {
            "text/html": [
              "<div>\n",
              "<style scoped>\n",
              "    .dataframe tbody tr th:only-of-type {\n",
              "        vertical-align: middle;\n",
              "    }\n",
              "\n",
              "    .dataframe tbody tr th {\n",
              "        vertical-align: top;\n",
              "    }\n",
              "\n",
              "    .dataframe thead th {\n",
              "        text-align: right;\n",
              "    }\n",
              "</style>\n",
              "<table border=\"1\" class=\"dataframe\">\n",
              "  <thead>\n",
              "    <tr style=\"text-align: right;\">\n",
              "      <th></th>\n",
              "      <th>player_id</th>\n",
              "      <th>player_name</th>\n",
              "      <th>age</th>\n",
              "      <th>country</th>\n",
              "      <th>height_cm</th>\n",
              "      <th>weight_lbs</th>\n",
              "      <th>position</th>\n",
              "      <th>overall</th>\n",
              "      <th>potential</th>\n",
              "      <th>Value_millions</th>\n",
              "      <th>pref_foot</th>\n",
              "      <th>weak_foot</th>\n",
              "      <th>skill_moves</th>\n",
              "      <th>international_reputation</th>\n",
              "      <th>Attacking_work_rate</th>\n",
              "      <th>Defensive_work_rate</th>\n",
              "      <th>body_type</th>\n",
              "      <th>club_country</th>\n",
              "      <th>club_name</th>\n",
              "      <th>club_overall</th>\n",
              "    </tr>\n",
              "  </thead>\n",
              "  <tbody>\n",
              "    <tr>\n",
              "      <th>0</th>\n",
              "      <td>231747</td>\n",
              "      <td>Kylian Mbappé Lottin</td>\n",
              "      <td>23</td>\n",
              "      <td>France</td>\n",
              "      <td>182</td>\n",
              "      <td>161</td>\n",
              "      <td>ST</td>\n",
              "      <td>91</td>\n",
              "      <td>95</td>\n",
              "      <td>190,5</td>\n",
              "      <td>Right</td>\n",
              "      <td>4</td>\n",
              "      <td>5</td>\n",
              "      <td>4</td>\n",
              "      <td>High</td>\n",
              "      <td>Low</td>\n",
              "      <td>Unique</td>\n",
              "      <td>France</td>\n",
              "      <td>Paris Saint Germain</td>\n",
              "      <td>84</td>\n",
              "    </tr>\n",
              "    <tr>\n",
              "      <th>1</th>\n",
              "      <td>192985</td>\n",
              "      <td>Kevin De Bruyne</td>\n",
              "      <td>31</td>\n",
              "      <td>Belgium</td>\n",
              "      <td>181</td>\n",
              "      <td>165</td>\n",
              "      <td>CM</td>\n",
              "      <td>91</td>\n",
              "      <td>91</td>\n",
              "      <td>107,5</td>\n",
              "      <td>Right</td>\n",
              "      <td>5</td>\n",
              "      <td>4</td>\n",
              "      <td>4</td>\n",
              "      <td>High</td>\n",
              "      <td>Medium</td>\n",
              "      <td>Unique</td>\n",
              "      <td>England</td>\n",
              "      <td>Manchester City</td>\n",
              "      <td>85</td>\n",
              "    </tr>\n",
              "    <tr>\n",
              "      <th>2</th>\n",
              "      <td>188545</td>\n",
              "      <td>Robert Lewandowski</td>\n",
              "      <td>33</td>\n",
              "      <td>Poland</td>\n",
              "      <td>185</td>\n",
              "      <td>179</td>\n",
              "      <td>ST</td>\n",
              "      <td>91</td>\n",
              "      <td>91</td>\n",
              "      <td>84</td>\n",
              "      <td>Right</td>\n",
              "      <td>4</td>\n",
              "      <td>4</td>\n",
              "      <td>5</td>\n",
              "      <td>High</td>\n",
              "      <td>Medium</td>\n",
              "      <td>Unique</td>\n",
              "      <td>Spain</td>\n",
              "      <td>Fc Barcelona</td>\n",
              "      <td>83</td>\n",
              "    </tr>\n",
              "    <tr>\n",
              "      <th>3</th>\n",
              "      <td>165153</td>\n",
              "      <td>Karim Benzema</td>\n",
              "      <td>34</td>\n",
              "      <td>France</td>\n",
              "      <td>185</td>\n",
              "      <td>179</td>\n",
              "      <td>CF</td>\n",
              "      <td>91</td>\n",
              "      <td>91</td>\n",
              "      <td>64</td>\n",
              "      <td>Right</td>\n",
              "      <td>4</td>\n",
              "      <td>4</td>\n",
              "      <td>4</td>\n",
              "      <td>Medium</td>\n",
              "      <td>Medium</td>\n",
              "      <td>Normal (170-185)</td>\n",
              "      <td>Spain</td>\n",
              "      <td>Real Madrid</td>\n",
              "      <td>85</td>\n",
              "    </tr>\n",
              "    <tr>\n",
              "      <th>4</th>\n",
              "      <td>158023</td>\n",
              "      <td>Lionel Andrés Messi Cuccittini</td>\n",
              "      <td>35</td>\n",
              "      <td>Argentina</td>\n",
              "      <td>169</td>\n",
              "      <td>148</td>\n",
              "      <td>RW</td>\n",
              "      <td>91</td>\n",
              "      <td>91</td>\n",
              "      <td>54</td>\n",
              "      <td>Left</td>\n",
              "      <td>4</td>\n",
              "      <td>4</td>\n",
              "      <td>5</td>\n",
              "      <td>Low</td>\n",
              "      <td>Low</td>\n",
              "      <td>Unique</td>\n",
              "      <td>France</td>\n",
              "      <td>Paris Saint Germain</td>\n",
              "      <td>84</td>\n",
              "    </tr>\n",
              "    <tr>\n",
              "      <th>...</th>\n",
              "      <td>...</td>\n",
              "      <td>...</td>\n",
              "      <td>...</td>\n",
              "      <td>...</td>\n",
              "      <td>...</td>\n",
              "      <td>...</td>\n",
              "      <td>...</td>\n",
              "      <td>...</td>\n",
              "      <td>...</td>\n",
              "      <td>...</td>\n",
              "      <td>...</td>\n",
              "      <td>...</td>\n",
              "      <td>...</td>\n",
              "      <td>...</td>\n",
              "      <td>...</td>\n",
              "      <td>...</td>\n",
              "      <td>...</td>\n",
              "      <td>...</td>\n",
              "      <td>...</td>\n",
              "      <td>...</td>\n",
              "    </tr>\n",
              "    <tr>\n",
              "      <th>22075</th>\n",
              "      <td>261876</td>\n",
              "      <td>Conan Noonan</td>\n",
              "      <td>19</td>\n",
              "      <td>Republic of Ireland</td>\n",
              "      <td>180</td>\n",
              "      <td>148</td>\n",
              "      <td>ST</td>\n",
              "      <td>52</td>\n",
              "      <td>63</td>\n",
              "      <td>0,17</td>\n",
              "      <td>Right</td>\n",
              "      <td>3</td>\n",
              "      <td>2</td>\n",
              "      <td>1</td>\n",
              "      <td>Medium</td>\n",
              "      <td>Medium</td>\n",
              "      <td>Lean (170-185)</td>\n",
              "      <td>Republic of Ireland</td>\n",
              "      <td>Shamrock Rovers</td>\n",
              "      <td>63</td>\n",
              "    </tr>\n",
              "    <tr>\n",
              "      <th>22076</th>\n",
              "      <td>254232</td>\n",
              "      <td>Mohammed Asif Khan</td>\n",
              "      <td>21</td>\n",
              "      <td>India</td>\n",
              "      <td>171</td>\n",
              "      <td>121</td>\n",
              "      <td>CAM</td>\n",
              "      <td>46</td>\n",
              "      <td>58</td>\n",
              "      <td>0,12</td>\n",
              "      <td>Right</td>\n",
              "      <td>2</td>\n",
              "      <td>2</td>\n",
              "      <td>1</td>\n",
              "      <td>Low</td>\n",
              "      <td>Medium</td>\n",
              "      <td>Lean (170-185)</td>\n",
              "      <td>India</td>\n",
              "      <td>Mumbai City</td>\n",
              "      <td>62</td>\n",
              "    </tr>\n",
              "    <tr>\n",
              "      <th>22077</th>\n",
              "      <td>259213</td>\n",
              "      <td>Antonio D'Silva</td>\n",
              "      <td>22</td>\n",
              "      <td>India</td>\n",
              "      <td>182</td>\n",
              "      <td>161</td>\n",
              "      <td>GK</td>\n",
              "      <td>51</td>\n",
              "      <td>61</td>\n",
              "      <td>0,11</td>\n",
              "      <td>Right</td>\n",
              "      <td>3</td>\n",
              "      <td>1</td>\n",
              "      <td>1</td>\n",
              "      <td>Medium</td>\n",
              "      <td>Medium</td>\n",
              "      <td>Normal (170-185)</td>\n",
              "      <td>India</td>\n",
              "      <td>Odisha Fc</td>\n",
              "      <td>58</td>\n",
              "    </tr>\n",
              "    <tr>\n",
              "      <th>22078</th>\n",
              "      <td>258802</td>\n",
              "      <td>Bhupender Singh</td>\n",
              "      <td>22</td>\n",
              "      <td>India</td>\n",
              "      <td>172</td>\n",
              "      <td>157</td>\n",
              "      <td>RM</td>\n",
              "      <td>46</td>\n",
              "      <td>54</td>\n",
              "      <td>0,11</td>\n",
              "      <td>Right</td>\n",
              "      <td>2</td>\n",
              "      <td>2</td>\n",
              "      <td>1</td>\n",
              "      <td>Medium</td>\n",
              "      <td>Medium</td>\n",
              "      <td>Lean (170-185)</td>\n",
              "      <td>India</td>\n",
              "      <td>Jamshedpur</td>\n",
              "      <td>58</td>\n",
              "    </tr>\n",
              "    <tr>\n",
              "      <th>22079</th>\n",
              "      <td>271608</td>\n",
              "      <td>Aqeel Al Dhafeeri</td>\n",
              "      <td>17</td>\n",
              "      <td>Saudi Arabia</td>\n",
              "      <td>180</td>\n",
              "      <td>154</td>\n",
              "      <td>CB</td>\n",
              "      <td>46</td>\n",
              "      <td>63</td>\n",
              "      <td>0,11</td>\n",
              "      <td>Right</td>\n",
              "      <td>3</td>\n",
              "      <td>2</td>\n",
              "      <td>1</td>\n",
              "      <td>Medium</td>\n",
              "      <td>Medium</td>\n",
              "      <td>Lean (170-185)</td>\n",
              "      <td>Saudi Arabia</td>\n",
              "      <td>Al Batin</td>\n",
              "      <td>59</td>\n",
              "    </tr>\n",
              "  </tbody>\n",
              "</table>\n",
              "<p>22080 rows × 20 columns</p>\n",
              "</div>"
            ],
            "text/plain": [
              "       player_id                     player_name  age              country  \\\n",
              "0         231747            Kylian Mbappé Lottin   23               France   \n",
              "1         192985                 Kevin De Bruyne   31              Belgium   \n",
              "2         188545              Robert Lewandowski   33               Poland   \n",
              "3         165153                   Karim Benzema   34               France   \n",
              "4         158023  Lionel Andrés Messi Cuccittini   35            Argentina   \n",
              "...          ...                             ...  ...                  ...   \n",
              "22075     261876                    Conan Noonan   19  Republic of Ireland   \n",
              "22076     254232              Mohammed Asif Khan   21                India   \n",
              "22077     259213                 Antonio D'Silva   22                India   \n",
              "22078     258802                 Bhupender Singh   22                India   \n",
              "22079     271608               Aqeel Al Dhafeeri   17         Saudi Arabia   \n",
              "\n",
              "       height_cm  weight_lbs position  overall  potential Value_millions  \\\n",
              "0            182         161       ST       91         95          190,5   \n",
              "1            181         165       CM       91         91          107,5   \n",
              "2            185         179       ST       91         91             84   \n",
              "3            185         179       CF       91         91             64   \n",
              "4            169         148       RW       91         91             54   \n",
              "...          ...         ...      ...      ...        ...            ...   \n",
              "22075        180         148       ST       52         63           0,17   \n",
              "22076        171         121      CAM       46         58           0,12   \n",
              "22077        182         161       GK       51         61           0,11   \n",
              "22078        172         157       RM       46         54           0,11   \n",
              "22079        180         154       CB       46         63           0,11   \n",
              "\n",
              "      pref_foot  weak_foot  skill_moves  international_reputation  \\\n",
              "0         Right          4            5                         4   \n",
              "1         Right          5            4                         4   \n",
              "2         Right          4            4                         5   \n",
              "3         Right          4            4                         4   \n",
              "4          Left          4            4                         5   \n",
              "...         ...        ...          ...                       ...   \n",
              "22075     Right          3            2                         1   \n",
              "22076     Right          2            2                         1   \n",
              "22077     Right          3            1                         1   \n",
              "22078     Right          2            2                         1   \n",
              "22079     Right          3            2                         1   \n",
              "\n",
              "      Attacking_work_rate Defensive_work_rate         body_type  \\\n",
              "0                    High                 Low            Unique   \n",
              "1                    High              Medium            Unique   \n",
              "2                    High              Medium            Unique   \n",
              "3                  Medium              Medium  Normal (170-185)   \n",
              "4                     Low                 Low            Unique   \n",
              "...                   ...                 ...               ...   \n",
              "22075              Medium              Medium    Lean (170-185)   \n",
              "22076                 Low              Medium    Lean (170-185)   \n",
              "22077              Medium              Medium  Normal (170-185)   \n",
              "22078              Medium              Medium    Lean (170-185)   \n",
              "22079              Medium              Medium    Lean (170-185)   \n",
              "\n",
              "              club_country            club_name  club_overall  \n",
              "0                   France  Paris Saint Germain            84  \n",
              "1                  England      Manchester City            85  \n",
              "2                    Spain         Fc Barcelona            83  \n",
              "3                    Spain          Real Madrid            85  \n",
              "4                   France  Paris Saint Germain            84  \n",
              "...                    ...                  ...           ...  \n",
              "22075  Republic of Ireland      Shamrock Rovers            63  \n",
              "22076                India          Mumbai City            62  \n",
              "22077                India            Odisha Fc            58  \n",
              "22078                India           Jamshedpur            58  \n",
              "22079         Saudi Arabia             Al Batin            59  \n",
              "\n",
              "[22080 rows x 20 columns]"
            ]
          },
          "execution_count": 5,
          "metadata": {},
          "output_type": "execute_result"
        }
      ],
      "source": [
        "dataset"
      ]
    },
    {
      "cell_type": "markdown",
      "metadata": {},
      "source": [
        "* statistics measures from numeric columns"
      ]
    },
    {
      "cell_type": "code",
      "execution_count": 6,
      "metadata": {
        "colab": {
          "base_uri": "https://localhost:8080/",
          "height": 300
        },
        "id": "smrvDhsj1K9O",
        "outputId": "8d5f0c75-c152-4a79-fa0b-fc958ddd9f36"
      },
      "outputs": [
        {
          "data": {
            "text/html": [
              "<div>\n",
              "<style scoped>\n",
              "    .dataframe tbody tr th:only-of-type {\n",
              "        vertical-align: middle;\n",
              "    }\n",
              "\n",
              "    .dataframe tbody tr th {\n",
              "        vertical-align: top;\n",
              "    }\n",
              "\n",
              "    .dataframe thead th {\n",
              "        text-align: right;\n",
              "    }\n",
              "</style>\n",
              "<table border=\"1\" class=\"dataframe\">\n",
              "  <thead>\n",
              "    <tr style=\"text-align: right;\">\n",
              "      <th></th>\n",
              "      <th>player_id</th>\n",
              "      <th>age</th>\n",
              "      <th>height_cm</th>\n",
              "      <th>weight_lbs</th>\n",
              "      <th>overall</th>\n",
              "      <th>potential</th>\n",
              "      <th>weak_foot</th>\n",
              "      <th>skill_moves</th>\n",
              "      <th>international_reputation</th>\n",
              "      <th>club_overall</th>\n",
              "    </tr>\n",
              "  </thead>\n",
              "  <tbody>\n",
              "    <tr>\n",
              "      <th>count</th>\n",
              "      <td>22080.000000</td>\n",
              "      <td>22080.000000</td>\n",
              "      <td>22080.000000</td>\n",
              "      <td>22080.000000</td>\n",
              "      <td>22080.000000</td>\n",
              "      <td>22080.000000</td>\n",
              "      <td>22080.000000</td>\n",
              "      <td>22080.000000</td>\n",
              "      <td>22080.000000</td>\n",
              "      <td>22080.000000</td>\n",
              "    </tr>\n",
              "    <tr>\n",
              "      <th>mean</th>\n",
              "      <td>238806.667618</td>\n",
              "      <td>24.894112</td>\n",
              "      <td>181.391893</td>\n",
              "      <td>165.399457</td>\n",
              "      <td>65.223958</td>\n",
              "      <td>70.458107</td>\n",
              "      <td>2.932699</td>\n",
              "      <td>2.362726</td>\n",
              "      <td>1.075272</td>\n",
              "      <td>68.295743</td>\n",
              "    </tr>\n",
              "    <tr>\n",
              "      <th>std</th>\n",
              "      <td>28565.188684</td>\n",
              "      <td>4.891117</td>\n",
              "      <td>6.852274</td>\n",
              "      <td>15.411979</td>\n",
              "      <td>6.804443</td>\n",
              "      <td>6.147813</td>\n",
              "      <td>0.673396</td>\n",
              "      <td>0.764252</td>\n",
              "      <td>0.334532</td>\n",
              "      <td>5.358555</td>\n",
              "    </tr>\n",
              "    <tr>\n",
              "      <th>min</th>\n",
              "      <td>1179.000000</td>\n",
              "      <td>16.000000</td>\n",
              "      <td>155.000000</td>\n",
              "      <td>108.000000</td>\n",
              "      <td>46.000000</td>\n",
              "      <td>46.000000</td>\n",
              "      <td>1.000000</td>\n",
              "      <td>1.000000</td>\n",
              "      <td>1.000000</td>\n",
              "      <td>0.000000</td>\n",
              "    </tr>\n",
              "    <tr>\n",
              "      <th>25%</th>\n",
              "      <td>222433.250000</td>\n",
              "      <td>21.000000</td>\n",
              "      <td>176.000000</td>\n",
              "      <td>154.000000</td>\n",
              "      <td>61.000000</td>\n",
              "      <td>66.000000</td>\n",
              "      <td>3.000000</td>\n",
              "      <td>2.000000</td>\n",
              "      <td>1.000000</td>\n",
              "      <td>65.000000</td>\n",
              "    </tr>\n",
              "    <tr>\n",
              "      <th>50%</th>\n",
              "      <td>243590.000000</td>\n",
              "      <td>24.000000</td>\n",
              "      <td>181.000000</td>\n",
              "      <td>165.000000</td>\n",
              "      <td>65.000000</td>\n",
              "      <td>70.000000</td>\n",
              "      <td>3.000000</td>\n",
              "      <td>2.000000</td>\n",
              "      <td>1.000000</td>\n",
              "      <td>68.000000</td>\n",
              "    </tr>\n",
              "    <tr>\n",
              "      <th>75%</th>\n",
              "      <td>262079.500000</td>\n",
              "      <td>28.000000</td>\n",
              "      <td>186.000000</td>\n",
              "      <td>176.000000</td>\n",
              "      <td>70.000000</td>\n",
              "      <td>74.000000</td>\n",
              "      <td>3.000000</td>\n",
              "      <td>3.000000</td>\n",
              "      <td>1.000000</td>\n",
              "      <td>71.000000</td>\n",
              "    </tr>\n",
              "    <tr>\n",
              "      <th>max</th>\n",
              "      <td>275460.000000</td>\n",
              "      <td>44.000000</td>\n",
              "      <td>206.000000</td>\n",
              "      <td>231.000000</td>\n",
              "      <td>91.000000</td>\n",
              "      <td>95.000000</td>\n",
              "      <td>5.000000</td>\n",
              "      <td>5.000000</td>\n",
              "      <td>5.000000</td>\n",
              "      <td>85.000000</td>\n",
              "    </tr>\n",
              "  </tbody>\n",
              "</table>\n",
              "</div>"
            ],
            "text/plain": [
              "           player_id           age     height_cm    weight_lbs       overall  \\\n",
              "count   22080.000000  22080.000000  22080.000000  22080.000000  22080.000000   \n",
              "mean   238806.667618     24.894112    181.391893    165.399457     65.223958   \n",
              "std     28565.188684      4.891117      6.852274     15.411979      6.804443   \n",
              "min      1179.000000     16.000000    155.000000    108.000000     46.000000   \n",
              "25%    222433.250000     21.000000    176.000000    154.000000     61.000000   \n",
              "50%    243590.000000     24.000000    181.000000    165.000000     65.000000   \n",
              "75%    262079.500000     28.000000    186.000000    176.000000     70.000000   \n",
              "max    275460.000000     44.000000    206.000000    231.000000     91.000000   \n",
              "\n",
              "          potential     weak_foot   skill_moves  international_reputation  \\\n",
              "count  22080.000000  22080.000000  22080.000000              22080.000000   \n",
              "mean      70.458107      2.932699      2.362726                  1.075272   \n",
              "std        6.147813      0.673396      0.764252                  0.334532   \n",
              "min       46.000000      1.000000      1.000000                  1.000000   \n",
              "25%       66.000000      3.000000      2.000000                  1.000000   \n",
              "50%       70.000000      3.000000      2.000000                  1.000000   \n",
              "75%       74.000000      3.000000      3.000000                  1.000000   \n",
              "max       95.000000      5.000000      5.000000                  5.000000   \n",
              "\n",
              "       club_overall  \n",
              "count  22080.000000  \n",
              "mean      68.295743  \n",
              "std        5.358555  \n",
              "min        0.000000  \n",
              "25%       65.000000  \n",
              "50%       68.000000  \n",
              "75%       71.000000  \n",
              "max       85.000000  "
            ]
          },
          "execution_count": 6,
          "metadata": {},
          "output_type": "execute_result"
        }
      ],
      "source": [
        "dataset.describe()"
      ]
    },
    {
      "cell_type": "markdown",
      "metadata": {},
      "source": [
        "* First 5 rows"
      ]
    },
    {
      "cell_type": "code",
      "execution_count": 7,
      "metadata": {
        "colab": {
          "base_uri": "https://localhost:8080/",
          "height": 348
        },
        "id": "xaBsbJKF1VJs",
        "outputId": "6ea38c40-9fa9-4d86-f55f-83c01736105c"
      },
      "outputs": [
        {
          "data": {
            "text/html": [
              "<div>\n",
              "<style scoped>\n",
              "    .dataframe tbody tr th:only-of-type {\n",
              "        vertical-align: middle;\n",
              "    }\n",
              "\n",
              "    .dataframe tbody tr th {\n",
              "        vertical-align: top;\n",
              "    }\n",
              "\n",
              "    .dataframe thead th {\n",
              "        text-align: right;\n",
              "    }\n",
              "</style>\n",
              "<table border=\"1\" class=\"dataframe\">\n",
              "  <thead>\n",
              "    <tr style=\"text-align: right;\">\n",
              "      <th></th>\n",
              "      <th>player_id</th>\n",
              "      <th>player_name</th>\n",
              "      <th>age</th>\n",
              "      <th>country</th>\n",
              "      <th>height_cm</th>\n",
              "      <th>weight_lbs</th>\n",
              "      <th>position</th>\n",
              "      <th>overall</th>\n",
              "      <th>potential</th>\n",
              "      <th>Value_millions</th>\n",
              "      <th>pref_foot</th>\n",
              "      <th>weak_foot</th>\n",
              "      <th>skill_moves</th>\n",
              "      <th>international_reputation</th>\n",
              "      <th>Attacking_work_rate</th>\n",
              "      <th>Defensive_work_rate</th>\n",
              "      <th>body_type</th>\n",
              "      <th>club_country</th>\n",
              "      <th>club_name</th>\n",
              "      <th>club_overall</th>\n",
              "    </tr>\n",
              "  </thead>\n",
              "  <tbody>\n",
              "    <tr>\n",
              "      <th>0</th>\n",
              "      <td>231747</td>\n",
              "      <td>Kylian Mbappé Lottin</td>\n",
              "      <td>23</td>\n",
              "      <td>France</td>\n",
              "      <td>182</td>\n",
              "      <td>161</td>\n",
              "      <td>ST</td>\n",
              "      <td>91</td>\n",
              "      <td>95</td>\n",
              "      <td>190,5</td>\n",
              "      <td>Right</td>\n",
              "      <td>4</td>\n",
              "      <td>5</td>\n",
              "      <td>4</td>\n",
              "      <td>High</td>\n",
              "      <td>Low</td>\n",
              "      <td>Unique</td>\n",
              "      <td>France</td>\n",
              "      <td>Paris Saint Germain</td>\n",
              "      <td>84</td>\n",
              "    </tr>\n",
              "    <tr>\n",
              "      <th>1</th>\n",
              "      <td>192985</td>\n",
              "      <td>Kevin De Bruyne</td>\n",
              "      <td>31</td>\n",
              "      <td>Belgium</td>\n",
              "      <td>181</td>\n",
              "      <td>165</td>\n",
              "      <td>CM</td>\n",
              "      <td>91</td>\n",
              "      <td>91</td>\n",
              "      <td>107,5</td>\n",
              "      <td>Right</td>\n",
              "      <td>5</td>\n",
              "      <td>4</td>\n",
              "      <td>4</td>\n",
              "      <td>High</td>\n",
              "      <td>Medium</td>\n",
              "      <td>Unique</td>\n",
              "      <td>England</td>\n",
              "      <td>Manchester City</td>\n",
              "      <td>85</td>\n",
              "    </tr>\n",
              "    <tr>\n",
              "      <th>2</th>\n",
              "      <td>188545</td>\n",
              "      <td>Robert Lewandowski</td>\n",
              "      <td>33</td>\n",
              "      <td>Poland</td>\n",
              "      <td>185</td>\n",
              "      <td>179</td>\n",
              "      <td>ST</td>\n",
              "      <td>91</td>\n",
              "      <td>91</td>\n",
              "      <td>84</td>\n",
              "      <td>Right</td>\n",
              "      <td>4</td>\n",
              "      <td>4</td>\n",
              "      <td>5</td>\n",
              "      <td>High</td>\n",
              "      <td>Medium</td>\n",
              "      <td>Unique</td>\n",
              "      <td>Spain</td>\n",
              "      <td>Fc Barcelona</td>\n",
              "      <td>83</td>\n",
              "    </tr>\n",
              "    <tr>\n",
              "      <th>3</th>\n",
              "      <td>165153</td>\n",
              "      <td>Karim Benzema</td>\n",
              "      <td>34</td>\n",
              "      <td>France</td>\n",
              "      <td>185</td>\n",
              "      <td>179</td>\n",
              "      <td>CF</td>\n",
              "      <td>91</td>\n",
              "      <td>91</td>\n",
              "      <td>64</td>\n",
              "      <td>Right</td>\n",
              "      <td>4</td>\n",
              "      <td>4</td>\n",
              "      <td>4</td>\n",
              "      <td>Medium</td>\n",
              "      <td>Medium</td>\n",
              "      <td>Normal (170-185)</td>\n",
              "      <td>Spain</td>\n",
              "      <td>Real Madrid</td>\n",
              "      <td>85</td>\n",
              "    </tr>\n",
              "    <tr>\n",
              "      <th>4</th>\n",
              "      <td>158023</td>\n",
              "      <td>Lionel Andrés Messi Cuccittini</td>\n",
              "      <td>35</td>\n",
              "      <td>Argentina</td>\n",
              "      <td>169</td>\n",
              "      <td>148</td>\n",
              "      <td>RW</td>\n",
              "      <td>91</td>\n",
              "      <td>91</td>\n",
              "      <td>54</td>\n",
              "      <td>Left</td>\n",
              "      <td>4</td>\n",
              "      <td>4</td>\n",
              "      <td>5</td>\n",
              "      <td>Low</td>\n",
              "      <td>Low</td>\n",
              "      <td>Unique</td>\n",
              "      <td>France</td>\n",
              "      <td>Paris Saint Germain</td>\n",
              "      <td>84</td>\n",
              "    </tr>\n",
              "  </tbody>\n",
              "</table>\n",
              "</div>"
            ],
            "text/plain": [
              "   player_id                     player_name  age    country  height_cm  \\\n",
              "0     231747            Kylian Mbappé Lottin   23     France        182   \n",
              "1     192985                 Kevin De Bruyne   31    Belgium        181   \n",
              "2     188545              Robert Lewandowski   33     Poland        185   \n",
              "3     165153                   Karim Benzema   34     France        185   \n",
              "4     158023  Lionel Andrés Messi Cuccittini   35  Argentina        169   \n",
              "\n",
              "   weight_lbs position  overall  potential Value_millions pref_foot  \\\n",
              "0         161       ST       91         95          190,5     Right   \n",
              "1         165       CM       91         91          107,5     Right   \n",
              "2         179       ST       91         91             84     Right   \n",
              "3         179       CF       91         91             64     Right   \n",
              "4         148       RW       91         91             54      Left   \n",
              "\n",
              "   weak_foot  skill_moves  international_reputation Attacking_work_rate  \\\n",
              "0          4            5                         4                High   \n",
              "1          5            4                         4                High   \n",
              "2          4            4                         5                High   \n",
              "3          4            4                         4              Medium   \n",
              "4          4            4                         5                 Low   \n",
              "\n",
              "  Defensive_work_rate         body_type club_country            club_name  \\\n",
              "0                 Low            Unique       France  Paris Saint Germain   \n",
              "1              Medium            Unique      England      Manchester City   \n",
              "2              Medium            Unique        Spain         Fc Barcelona   \n",
              "3              Medium  Normal (170-185)        Spain          Real Madrid   \n",
              "4                 Low            Unique       France  Paris Saint Germain   \n",
              "\n",
              "   club_overall  \n",
              "0            84  \n",
              "1            85  \n",
              "2            83  \n",
              "3            85  \n",
              "4            84  "
            ]
          },
          "execution_count": 7,
          "metadata": {},
          "output_type": "execute_result"
        }
      ],
      "source": [
        "dataset.head()"
      ]
    },
    {
      "cell_type": "markdown",
      "metadata": {},
      "source": [
        "* Last 5 rows"
      ]
    },
    {
      "cell_type": "code",
      "execution_count": 8,
      "metadata": {
        "colab": {
          "base_uri": "https://localhost:8080/",
          "height": 330
        },
        "id": "DIamlGQD1XTF",
        "outputId": "238ca6b2-1237-4d66-e588-35a68ff17825"
      },
      "outputs": [
        {
          "data": {
            "text/html": [
              "<div>\n",
              "<style scoped>\n",
              "    .dataframe tbody tr th:only-of-type {\n",
              "        vertical-align: middle;\n",
              "    }\n",
              "\n",
              "    .dataframe tbody tr th {\n",
              "        vertical-align: top;\n",
              "    }\n",
              "\n",
              "    .dataframe thead th {\n",
              "        text-align: right;\n",
              "    }\n",
              "</style>\n",
              "<table border=\"1\" class=\"dataframe\">\n",
              "  <thead>\n",
              "    <tr style=\"text-align: right;\">\n",
              "      <th></th>\n",
              "      <th>player_id</th>\n",
              "      <th>player_name</th>\n",
              "      <th>age</th>\n",
              "      <th>country</th>\n",
              "      <th>height_cm</th>\n",
              "      <th>weight_lbs</th>\n",
              "      <th>position</th>\n",
              "      <th>overall</th>\n",
              "      <th>potential</th>\n",
              "      <th>Value_millions</th>\n",
              "      <th>pref_foot</th>\n",
              "      <th>weak_foot</th>\n",
              "      <th>skill_moves</th>\n",
              "      <th>international_reputation</th>\n",
              "      <th>Attacking_work_rate</th>\n",
              "      <th>Defensive_work_rate</th>\n",
              "      <th>body_type</th>\n",
              "      <th>club_country</th>\n",
              "      <th>club_name</th>\n",
              "      <th>club_overall</th>\n",
              "    </tr>\n",
              "  </thead>\n",
              "  <tbody>\n",
              "    <tr>\n",
              "      <th>22075</th>\n",
              "      <td>261876</td>\n",
              "      <td>Conan Noonan</td>\n",
              "      <td>19</td>\n",
              "      <td>Republic of Ireland</td>\n",
              "      <td>180</td>\n",
              "      <td>148</td>\n",
              "      <td>ST</td>\n",
              "      <td>52</td>\n",
              "      <td>63</td>\n",
              "      <td>0,17</td>\n",
              "      <td>Right</td>\n",
              "      <td>3</td>\n",
              "      <td>2</td>\n",
              "      <td>1</td>\n",
              "      <td>Medium</td>\n",
              "      <td>Medium</td>\n",
              "      <td>Lean (170-185)</td>\n",
              "      <td>Republic of Ireland</td>\n",
              "      <td>Shamrock Rovers</td>\n",
              "      <td>63</td>\n",
              "    </tr>\n",
              "    <tr>\n",
              "      <th>22076</th>\n",
              "      <td>254232</td>\n",
              "      <td>Mohammed Asif Khan</td>\n",
              "      <td>21</td>\n",
              "      <td>India</td>\n",
              "      <td>171</td>\n",
              "      <td>121</td>\n",
              "      <td>CAM</td>\n",
              "      <td>46</td>\n",
              "      <td>58</td>\n",
              "      <td>0,12</td>\n",
              "      <td>Right</td>\n",
              "      <td>2</td>\n",
              "      <td>2</td>\n",
              "      <td>1</td>\n",
              "      <td>Low</td>\n",
              "      <td>Medium</td>\n",
              "      <td>Lean (170-185)</td>\n",
              "      <td>India</td>\n",
              "      <td>Mumbai City</td>\n",
              "      <td>62</td>\n",
              "    </tr>\n",
              "    <tr>\n",
              "      <th>22077</th>\n",
              "      <td>259213</td>\n",
              "      <td>Antonio D'Silva</td>\n",
              "      <td>22</td>\n",
              "      <td>India</td>\n",
              "      <td>182</td>\n",
              "      <td>161</td>\n",
              "      <td>GK</td>\n",
              "      <td>51</td>\n",
              "      <td>61</td>\n",
              "      <td>0,11</td>\n",
              "      <td>Right</td>\n",
              "      <td>3</td>\n",
              "      <td>1</td>\n",
              "      <td>1</td>\n",
              "      <td>Medium</td>\n",
              "      <td>Medium</td>\n",
              "      <td>Normal (170-185)</td>\n",
              "      <td>India</td>\n",
              "      <td>Odisha Fc</td>\n",
              "      <td>58</td>\n",
              "    </tr>\n",
              "    <tr>\n",
              "      <th>22078</th>\n",
              "      <td>258802</td>\n",
              "      <td>Bhupender Singh</td>\n",
              "      <td>22</td>\n",
              "      <td>India</td>\n",
              "      <td>172</td>\n",
              "      <td>157</td>\n",
              "      <td>RM</td>\n",
              "      <td>46</td>\n",
              "      <td>54</td>\n",
              "      <td>0,11</td>\n",
              "      <td>Right</td>\n",
              "      <td>2</td>\n",
              "      <td>2</td>\n",
              "      <td>1</td>\n",
              "      <td>Medium</td>\n",
              "      <td>Medium</td>\n",
              "      <td>Lean (170-185)</td>\n",
              "      <td>India</td>\n",
              "      <td>Jamshedpur</td>\n",
              "      <td>58</td>\n",
              "    </tr>\n",
              "    <tr>\n",
              "      <th>22079</th>\n",
              "      <td>271608</td>\n",
              "      <td>Aqeel Al Dhafeeri</td>\n",
              "      <td>17</td>\n",
              "      <td>Saudi Arabia</td>\n",
              "      <td>180</td>\n",
              "      <td>154</td>\n",
              "      <td>CB</td>\n",
              "      <td>46</td>\n",
              "      <td>63</td>\n",
              "      <td>0,11</td>\n",
              "      <td>Right</td>\n",
              "      <td>3</td>\n",
              "      <td>2</td>\n",
              "      <td>1</td>\n",
              "      <td>Medium</td>\n",
              "      <td>Medium</td>\n",
              "      <td>Lean (170-185)</td>\n",
              "      <td>Saudi Arabia</td>\n",
              "      <td>Al Batin</td>\n",
              "      <td>59</td>\n",
              "    </tr>\n",
              "  </tbody>\n",
              "</table>\n",
              "</div>"
            ],
            "text/plain": [
              "       player_id         player_name  age              country  height_cm  \\\n",
              "22075     261876        Conan Noonan   19  Republic of Ireland        180   \n",
              "22076     254232  Mohammed Asif Khan   21                India        171   \n",
              "22077     259213     Antonio D'Silva   22                India        182   \n",
              "22078     258802     Bhupender Singh   22                India        172   \n",
              "22079     271608   Aqeel Al Dhafeeri   17         Saudi Arabia        180   \n",
              "\n",
              "       weight_lbs position  overall  potential Value_millions pref_foot  \\\n",
              "22075         148       ST       52         63           0,17     Right   \n",
              "22076         121      CAM       46         58           0,12     Right   \n",
              "22077         161       GK       51         61           0,11     Right   \n",
              "22078         157       RM       46         54           0,11     Right   \n",
              "22079         154       CB       46         63           0,11     Right   \n",
              "\n",
              "       weak_foot  skill_moves  international_reputation Attacking_work_rate  \\\n",
              "22075          3            2                         1              Medium   \n",
              "22076          2            2                         1                 Low   \n",
              "22077          3            1                         1              Medium   \n",
              "22078          2            2                         1              Medium   \n",
              "22079          3            2                         1              Medium   \n",
              "\n",
              "      Defensive_work_rate         body_type         club_country  \\\n",
              "22075              Medium    Lean (170-185)  Republic of Ireland   \n",
              "22076              Medium    Lean (170-185)                India   \n",
              "22077              Medium  Normal (170-185)                India   \n",
              "22078              Medium    Lean (170-185)                India   \n",
              "22079              Medium    Lean (170-185)         Saudi Arabia   \n",
              "\n",
              "             club_name  club_overall  \n",
              "22075  Shamrock Rovers            63  \n",
              "22076      Mumbai City            62  \n",
              "22077        Odisha Fc            58  \n",
              "22078       Jamshedpur            58  \n",
              "22079         Al Batin            59  "
            ]
          },
          "execution_count": 8,
          "metadata": {},
          "output_type": "execute_result"
        }
      ],
      "source": [
        "dataset.tail()"
      ]
    },
    {
      "cell_type": "markdown",
      "metadata": {
        "id": "QmRTKGec2rNe"
      },
      "source": [
        "* ***How many rows & columns does it have?***"
      ]
    },
    {
      "cell_type": "code",
      "execution_count": 9,
      "metadata": {
        "colab": {
          "base_uri": "https://localhost:8080/"
        },
        "id": "o8g_cR3L1ZVX",
        "outputId": "054bd308-217d-4c5d-bfa8-9c9229b91d7d"
      },
      "outputs": [
        {
          "data": {
            "text/plain": [
              "(22080, 20)"
            ]
          },
          "execution_count": 9,
          "metadata": {},
          "output_type": "execute_result"
        }
      ],
      "source": [
        "dataset.shape"
      ]
    },
    {
      "cell_type": "markdown",
      "metadata": {
        "id": "N8yJGKK_2vRU"
      },
      "source": [
        "constaints 22080 rows y 20 columns"
      ]
    },
    {
      "cell_type": "markdown",
      "metadata": {
        "id": "V5HthMfd21r7"
      },
      "source": [
        "* ***What do the column headings mean?***"
      ]
    },
    {
      "cell_type": "markdown",
      "metadata": {},
      "source": [
        "It's information about football player such as their age, market value, origin team, strong leg, etc."
      ]
    },
    {
      "cell_type": "code",
      "execution_count": 10,
      "metadata": {
        "colab": {
          "base_uri": "https://localhost:8080/"
        },
        "id": "pEk4rDG-1sPf",
        "outputId": "bb0e0a39-e06c-4a41-bca3-85194d4916dc"
      },
      "outputs": [
        {
          "data": {
            "text/plain": [
              "Index(['player_id', 'player_name', 'age', 'country', 'height_cm', 'weight_lbs',\n",
              "       'position', 'overall', 'potential', 'Value_millions', 'pref_foot',\n",
              "       'weak_foot', 'skill_moves', 'international_reputation',\n",
              "       'Attacking_work_rate', 'Defensive_work_rate', 'body_type',\n",
              "       'club_country', 'club_name', 'club_overall'],\n",
              "      dtype='object')"
            ]
          },
          "execution_count": 10,
          "metadata": {},
          "output_type": "execute_result"
        }
      ],
      "source": [
        "dataset.columns"
      ]
    },
    {
      "cell_type": "markdown",
      "metadata": {},
      "source": [
        "## **1. What type of variable is each column?**\n",
        "\n",
        "(Recall to classify them according to the 4 types discussed in class.)\n"
      ]
    },
    {
      "cell_type": "markdown",
      "metadata": {},
      "source": [
        "Let's classify each variable based on **the 4 data types**:\n",
        "\n",
        "* **Nominal** (categorical, no order)\n",
        "* **Ordinal** (categorical, with order)\n",
        "* **Discrete** (numeric, countable integers)\n",
        "* **Continuous** (numeric, real values)\n",
        "\n",
        "| Column                     | Type       | Reasoning                                                              |\n",
        "| -------------------------- | ---------- | ---------------------------------------------------------------------- |\n",
        "| `player_id`                | Discrete   | Unique integer identifier. Not meaningful for analysis, but countable. |\n",
        "| `player_name`              | Nominal    | Textual name, no order.                                                |\n",
        "| `age`                      | Discrete   | Integer number of years.                                               |\n",
        "| `country`                  | Nominal    | Name of the player's country.                                          |\n",
        "| `height_cm`                | Continuous | Measurement in cm. Can be decimal even if it's stored as int.          |\n",
        "| `weight_lbs`               | Continuous | Measurement in lbs, real value.                                        |\n",
        "| `position`                 | Nominal    | Player's position (e.g. GK, ST), unordered categories.                 |\n",
        "| `overall`                  | Discrete   | Rating from 1–100, integers.                                           |\n",
        "| `potential`                | Discrete   | Also 1–100 integers.                                                   |\n",
        "| `Value_millions`           | Continuous | Monetary value (stored as string like `\"0,17\"` but should be float).   |\n",
        "| `pref_foot`                | Nominal    | \"Right\" or \"Left\". Categorical without order.                          |\n",
        "| `weak_foot`                | Ordinal    | Stars (1 to 5), with natural ordering.                                 |\n",
        "| `skill_moves`              | Ordinal    | Stars (1 to 5), ordered scale.                                         |\n",
        "| `international_reputation` | Ordinal    | 1 to 5, higher = better reputation.                                    |\n",
        "| `Attacking_work_rate`      | Nominal    | Text (Low, Medium, High), usually treated as unordered.                |\n",
        "| `Defensive_work_rate`      | Nominal    | Same as above.                                                         |\n",
        "| `body_type`                | Nominal    | Categories like \"Lean\", \"Normal\".                                      |\n",
        "| `club_country`             | Nominal    | Country of the club.                                                   |\n",
        "| `club_name`                | Nominal    | Name of the club.                                                      |\n",
        "| `club_overall`             | Discrete   | Club rating (e.g. 63), integer value.                                  |\n",
        "\n"
      ]
    },
    {
      "cell_type": "code",
      "execution_count": 11,
      "metadata": {
        "colab": {
          "base_uri": "https://localhost:8080/"
        },
        "id": "XjxdxLu71l2X",
        "outputId": "f92abddc-b797-4ca7-c674-0b4a0777408f"
      },
      "outputs": [
        {
          "name": "stdout",
          "output_type": "stream",
          "text": [
            "<class 'pandas.core.frame.DataFrame'>\n",
            "RangeIndex: 22080 entries, 0 to 22079\n",
            "Data columns (total 20 columns):\n",
            " #   Column                    Non-Null Count  Dtype \n",
            "---  ------                    --------------  ----- \n",
            " 0   player_id                 22080 non-null  int64 \n",
            " 1   player_name               22080 non-null  object\n",
            " 2   age                       22080 non-null  int64 \n",
            " 3   country                   22080 non-null  object\n",
            " 4   height_cm                 22080 non-null  int64 \n",
            " 5   weight_lbs                22080 non-null  int64 \n",
            " 6   position                  22080 non-null  object\n",
            " 7   overall                   22080 non-null  int64 \n",
            " 8   potential                 22080 non-null  int64 \n",
            " 9   Value_millions            22080 non-null  object\n",
            " 10  pref_foot                 22080 non-null  object\n",
            " 11  weak_foot                 22080 non-null  int64 \n",
            " 12  skill_moves               22080 non-null  int64 \n",
            " 13  international_reputation  22080 non-null  int64 \n",
            " 14  Attacking_work_rate       22080 non-null  object\n",
            " 15  Defensive_work_rate       22080 non-null  object\n",
            " 16  body_type                 22080 non-null  object\n",
            " 17  club_country              22080 non-null  object\n",
            " 18  club_name                 22080 non-null  object\n",
            " 19  club_overall              22080 non-null  int64 \n",
            "dtypes: int64(10), object(10)\n",
            "memory usage: 3.4+ MB\n"
          ]
        }
      ],
      "source": [
        "dataset.info()"
      ]
    },
    {
      "cell_type": "markdown",
      "metadata": {},
      "source": [
        "## **2. Perform a complete descriptive analysis of the following columns:**\n",
        "\n",
        "a) `Age`\n",
        "b) `height_cm`\n",
        "c) `position`\n",
        "d) `club_country`\n",
        "e) `overall`\n",
        "f) `club_overall`\n",
        "g) `value_millions`\n",
        "h) `pref_foot`"
      ]
    },
    {
      "cell_type": "markdown",
      "metadata": {},
      "source": [
        "### a) `age`\n",
        "\n",
        "* **Type**: Discrete\n",
        "* Analyze:"
      ]
    },
    {
      "cell_type": "code",
      "execution_count": 12,
      "metadata": {},
      "outputs": [
        {
          "data": {
            "text/plain": [
              "<Axes: xlabel='age', ylabel='Count'>"
            ]
          },
          "execution_count": 12,
          "metadata": {},
          "output_type": "execute_result"
        },
        {
          "data": {
            "image/png": "[encoded data removed]",
            "text/plain": [
              "<Figure size 640x480 with 1 Axes>"
            ]
          },
          "metadata": {},
          "output_type": "display_data"
        }
      ],
      "source": [
        "dataset['age'].describe()\n",
        "sns.histplot(dataset['age'], kde=True)"
      ]
    },
    {
      "cell_type": "markdown",
      "metadata": {},
      "source": [
        "* Gives distribution of players by age (min, max, avg, etc.).\n",
        "----------"
      ]
    },
    {
      "cell_type": "markdown",
      "metadata": {},
      "source": [
        "### b) `height_cm`\n",
        "\n",
        "* **Type**: Continuous\n",
        "* Analyze:\n"
      ]
    },
    {
      "cell_type": "code",
      "execution_count": 13,
      "metadata": {},
      "outputs": [
        {
          "data": {
            "text/plain": [
              "<Axes: xlabel='height_cm', ylabel='Count'>"
            ]
          },
          "execution_count": 13,
          "metadata": {},
          "output_type": "execute_result"
        },
        {
          "data": {
            "image/png": "[encoded data removed]",
            "text/plain": [
              "<Figure size 640x480 with 1 Axes>"
            ]
          },
          "metadata": {},
          "output_type": "display_data"
        }
      ],
      "source": [
        "dataset['height_cm'].describe()\n",
        "sns.histplot(dataset['height_cm'], kde=True)"
      ]
    },
    {
      "cell_type": "markdown",
      "metadata": {},
      "source": [
        "------"
      ]
    },
    {
      "cell_type": "markdown",
      "metadata": {},
      "source": [
        "\n",
        "### c) `position`\n",
        "\n",
        "* **Type**: Nominal\n",
        "* Analyze:"
      ]
    },
    {
      "cell_type": "code",
      "execution_count": 14,
      "metadata": {},
      "outputs": [
        {
          "data": {
            "text/plain": [
              "<Axes: xlabel='count', ylabel='position'>"
            ]
          },
          "execution_count": 14,
          "metadata": {},
          "output_type": "execute_result"
        },
        {
          "data": {
            "image/png": "[encoded data removed]",
            "text/plain": [
              "<Figure size 640x480 with 1 Axes>"
            ]
          },
          "metadata": {},
          "output_type": "display_data"
        }
      ],
      "source": [
        "dataset['position'].value_counts()\n",
        "sns.countplot(y='position', data=dataset, order=dataset['position'].value_counts().index)"
      ]
    },
    {
      "cell_type": "markdown",
      "metadata": {},
      "source": [
        "### e) `overall`\n",
        "\n",
        "* **Type**: Discrete\n",
        "* Analyze:\n"
      ]
    },
    {
      "cell_type": "code",
      "execution_count": 15,
      "metadata": {},
      "outputs": [
        {
          "data": {
            "text/plain": [
              "<Axes: xlabel='overall', ylabel='Count'>"
            ]
          },
          "execution_count": 15,
          "metadata": {},
          "output_type": "execute_result"
        },
        {
          "data": {
            "image/png": "[encoded data removed]",
            "text/plain": [
              "<Figure size 640x480 with 1 Axes>"
            ]
          },
          "metadata": {},
          "output_type": "display_data"
        }
      ],
      "source": [
        "dataset['overall'].describe()\n",
        "sns.histplot(dataset['overall'], kde=True)"
      ]
    },
    {
      "cell_type": "markdown",
      "metadata": {},
      "source": [
        "### f) `club_overall`\n",
        "\n",
        "* **Type**: Discrete\n",
        "* Analyze:"
      ]
    },
    {
      "cell_type": "code",
      "execution_count": 16,
      "metadata": {},
      "outputs": [
        {
          "data": {
            "text/plain": [
              "<Axes: xlabel='club_overall', ylabel='Count'>"
            ]
          },
          "execution_count": 16,
          "metadata": {},
          "output_type": "execute_result"
        },
        {
          "data": {
            "image/png": "[encoded data removed]",
            "text/plain": [
              "<Figure size 640x480 with 1 Axes>"
            ]
          },
          "metadata": {},
          "output_type": "display_data"
        }
      ],
      "source": [
        "dataset['club_overall'].describe()\n",
        "sns.histplot(dataset['club_overall'], kde=True)"
      ]
    },
    {
      "cell_type": "markdown",
      "metadata": {},
      "source": [
        "### g) `value_millions`\n",
        "\n",
        "* **Type**: Continuous (but needs cleaning!)\n",
        "* Clean and analyze:"
      ]
    },
    {
      "cell_type": "code",
      "execution_count": 17,
      "metadata": {},
      "outputs": [
        {
          "data": {
            "text/plain": [
              "<Axes: xlabel='Value_millions', ylabel='Count'>"
            ]
          },
          "execution_count": 17,
          "metadata": {},
          "output_type": "execute_result"
        },
        {
          "data": {
            "image/png": "[encoded data removed]",
            "text/plain": [
              "<Figure size 640x480 with 1 Axes>"
            ]
          },
          "metadata": {},
          "output_type": "display_data"
        }
      ],
      "source": [
        "dataset['Value_millions'] = dataset['Value_millions'].str.replace(',', '.').astype(float)\n",
        "dataset['Value_millions'].describe()\n",
        "sns.histplot(dataset['Value_millions'], bins=50, kde=True)"
      ]
    },
    {
      "cell_type": "markdown",
      "metadata": {},
      "source": [
        "## **3. A member of the coaching staff claims that tall goalkeepers (GK) perform better overall. What can you conclude from a descriptive analysis?**\n",
        "\n",
        "**(Note: use three height groups as a definition:**\n",
        "\n",
        "**i) less than 185 cm.**\n",
        "\n",
        "**ii) between 185 and 192 cm.**\n",
        "\n",
        "**iii) more than 192 cm.**"
      ]
    },
    {
      "cell_type": "markdown",
      "metadata": {},
      "source": [
        "* First, we filter the dataset with only goalkeepers"
      ]
    },
    {
      "cell_type": "code",
      "execution_count": 18,
      "metadata": {
        "id": "3QR0sUmi5xjh"
      },
      "outputs": [],
      "source": [
        "goalkeepers = dataset[(dataset['position'] == 'GK')]"
      ]
    },
    {
      "cell_type": "code",
      "execution_count": 19,
      "metadata": {
        "colab": {
          "base_uri": "https://localhost:8080/",
          "height": 652
        },
        "id": "rXqgE7xa6Xak",
        "outputId": "f408ab3f-1c1b-4542-d24f-c585adb26564"
      },
      "outputs": [
        {
          "data": {
            "text/html": [
              "<div>\n",
              "<style scoped>\n",
              "    .dataframe tbody tr th:only-of-type {\n",
              "        vertical-align: middle;\n",
              "    }\n",
              "\n",
              "    .dataframe tbody tr th {\n",
              "        vertical-align: top;\n",
              "    }\n",
              "\n",
              "    .dataframe thead th {\n",
              "        text-align: right;\n",
              "    }\n",
              "</style>\n",
              "<table border=\"1\" class=\"dataframe\">\n",
              "  <thead>\n",
              "    <tr style=\"text-align: right;\">\n",
              "      <th></th>\n",
              "      <th>player_id</th>\n",
              "      <th>player_name</th>\n",
              "      <th>age</th>\n",
              "      <th>country</th>\n",
              "      <th>height_cm</th>\n",
              "      <th>weight_lbs</th>\n",
              "      <th>position</th>\n",
              "      <th>overall</th>\n",
              "      <th>potential</th>\n",
              "      <th>Value_millions</th>\n",
              "      <th>pref_foot</th>\n",
              "      <th>weak_foot</th>\n",
              "      <th>skill_moves</th>\n",
              "      <th>international_reputation</th>\n",
              "      <th>Attacking_work_rate</th>\n",
              "      <th>Defensive_work_rate</th>\n",
              "      <th>body_type</th>\n",
              "      <th>club_country</th>\n",
              "      <th>club_name</th>\n",
              "      <th>club_overall</th>\n",
              "    </tr>\n",
              "  </thead>\n",
              "  <tbody>\n",
              "    <tr>\n",
              "      <th>6</th>\n",
              "      <td>192119</td>\n",
              "      <td>Thibaut Nicolas Marc Courtois</td>\n",
              "      <td>30</td>\n",
              "      <td>Belgium</td>\n",
              "      <td>199</td>\n",
              "      <td>212</td>\n",
              "      <td>GK</td>\n",
              "      <td>90</td>\n",
              "      <td>91</td>\n",
              "      <td>90.00</td>\n",
              "      <td>Left</td>\n",
              "      <td>3</td>\n",
              "      <td>1</td>\n",
              "      <td>4</td>\n",
              "      <td>Medium</td>\n",
              "      <td>Medium</td>\n",
              "      <td>Unique</td>\n",
              "      <td>Spain</td>\n",
              "      <td>Real Madrid</td>\n",
              "      <td>85</td>\n",
              "    </tr>\n",
              "    <tr>\n",
              "      <th>7</th>\n",
              "      <td>212831</td>\n",
              "      <td>Alisson Ramsés Becker</td>\n",
              "      <td>29</td>\n",
              "      <td>Brazil</td>\n",
              "      <td>193</td>\n",
              "      <td>201</td>\n",
              "      <td>GK</td>\n",
              "      <td>89</td>\n",
              "      <td>90</td>\n",
              "      <td>79.00</td>\n",
              "      <td>Right</td>\n",
              "      <td>3</td>\n",
              "      <td>1</td>\n",
              "      <td>3</td>\n",
              "      <td>Medium</td>\n",
              "      <td>Medium</td>\n",
              "      <td>Unique</td>\n",
              "      <td>England</td>\n",
              "      <td>Liverpool</td>\n",
              "      <td>84</td>\n",
              "    </tr>\n",
              "    <tr>\n",
              "      <th>11</th>\n",
              "      <td>200389</td>\n",
              "      <td>Jan Oblak</td>\n",
              "      <td>29</td>\n",
              "      <td>Slovenia</td>\n",
              "      <td>188</td>\n",
              "      <td>192</td>\n",
              "      <td>GK</td>\n",
              "      <td>89</td>\n",
              "      <td>90</td>\n",
              "      <td>79.00</td>\n",
              "      <td>Right</td>\n",
              "      <td>3</td>\n",
              "      <td>1</td>\n",
              "      <td>5</td>\n",
              "      <td>Medium</td>\n",
              "      <td>Medium</td>\n",
              "      <td>Unique</td>\n",
              "      <td>Spain</td>\n",
              "      <td>Atlético Madrid</td>\n",
              "      <td>83</td>\n",
              "    </tr>\n",
              "    <tr>\n",
              "      <th>14</th>\n",
              "      <td>167495</td>\n",
              "      <td>Manuel Peter Neuer</td>\n",
              "      <td>36</td>\n",
              "      <td>Germany</td>\n",
              "      <td>193</td>\n",
              "      <td>205</td>\n",
              "      <td>GK</td>\n",
              "      <td>89</td>\n",
              "      <td>89</td>\n",
              "      <td>11.50</td>\n",
              "      <td>Right</td>\n",
              "      <td>4</td>\n",
              "      <td>1</td>\n",
              "      <td>5</td>\n",
              "      <td>Medium</td>\n",
              "      <td>Medium</td>\n",
              "      <td>Unique</td>\n",
              "      <td>Germany</td>\n",
              "      <td>Fc Bayern München</td>\n",
              "      <td>85</td>\n",
              "    </tr>\n",
              "    <tr>\n",
              "      <th>16</th>\n",
              "      <td>230621</td>\n",
              "      <td>Gianluigi Donnarumma</td>\n",
              "      <td>23</td>\n",
              "      <td>Italy</td>\n",
              "      <td>196</td>\n",
              "      <td>198</td>\n",
              "      <td>GK</td>\n",
              "      <td>88</td>\n",
              "      <td>92</td>\n",
              "      <td>103.50</td>\n",
              "      <td>Right</td>\n",
              "      <td>3</td>\n",
              "      <td>1</td>\n",
              "      <td>3</td>\n",
              "      <td>Medium</td>\n",
              "      <td>Medium</td>\n",
              "      <td>Unique</td>\n",
              "      <td>France</td>\n",
              "      <td>Paris Saint Germain</td>\n",
              "      <td>84</td>\n",
              "    </tr>\n",
              "    <tr>\n",
              "      <th>...</th>\n",
              "      <td>...</td>\n",
              "      <td>...</td>\n",
              "      <td>...</td>\n",
              "      <td>...</td>\n",
              "      <td>...</td>\n",
              "      <td>...</td>\n",
              "      <td>...</td>\n",
              "      <td>...</td>\n",
              "      <td>...</td>\n",
              "      <td>...</td>\n",
              "      <td>...</td>\n",
              "      <td>...</td>\n",
              "      <td>...</td>\n",
              "      <td>...</td>\n",
              "      <td>...</td>\n",
              "      <td>...</td>\n",
              "      <td>...</td>\n",
              "      <td>...</td>\n",
              "      <td>...</td>\n",
              "      <td>...</td>\n",
              "    </tr>\n",
              "    <tr>\n",
              "      <th>22057</th>\n",
              "      <td>256413</td>\n",
              "      <td>Jack Lemoignan</td>\n",
              "      <td>21</td>\n",
              "      <td>Northern Ireland</td>\n",
              "      <td>186</td>\n",
              "      <td>168</td>\n",
              "      <td>GK</td>\n",
              "      <td>49</td>\n",
              "      <td>60</td>\n",
              "      <td>0.09</td>\n",
              "      <td>Right</td>\n",
              "      <td>3</td>\n",
              "      <td>1</td>\n",
              "      <td>1</td>\n",
              "      <td>Medium</td>\n",
              "      <td>Medium</td>\n",
              "      <td>Lean (185+)</td>\n",
              "      <td>Northern Ireland</td>\n",
              "      <td>Derry City</td>\n",
              "      <td>61</td>\n",
              "    </tr>\n",
              "    <tr>\n",
              "      <th>22059</th>\n",
              "      <td>271554</td>\n",
              "      <td>Toms Leitis</td>\n",
              "      <td>18</td>\n",
              "      <td>Latvia</td>\n",
              "      <td>185</td>\n",
              "      <td>165</td>\n",
              "      <td>GK</td>\n",
              "      <td>50</td>\n",
              "      <td>65</td>\n",
              "      <td>0.09</td>\n",
              "      <td>Right</td>\n",
              "      <td>3</td>\n",
              "      <td>1</td>\n",
              "      <td>1</td>\n",
              "      <td>Medium</td>\n",
              "      <td>Medium</td>\n",
              "      <td>Normal (185+)</td>\n",
              "      <td>Republic of Ireland</td>\n",
              "      <td>Shamrock Rovers</td>\n",
              "      <td>63</td>\n",
              "    </tr>\n",
              "    <tr>\n",
              "      <th>22064</th>\n",
              "      <td>261423</td>\n",
              "      <td>Nikhil Deka</td>\n",
              "      <td>19</td>\n",
              "      <td>India</td>\n",
              "      <td>185</td>\n",
              "      <td>150</td>\n",
              "      <td>GK</td>\n",
              "      <td>48</td>\n",
              "      <td>61</td>\n",
              "      <td>0.10</td>\n",
              "      <td>Right</td>\n",
              "      <td>3</td>\n",
              "      <td>1</td>\n",
              "      <td>1</td>\n",
              "      <td>Medium</td>\n",
              "      <td>Medium</td>\n",
              "      <td>Lean (185+)</td>\n",
              "      <td>India</td>\n",
              "      <td>Northeast United</td>\n",
              "      <td>58</td>\n",
              "    </tr>\n",
              "    <tr>\n",
              "      <th>22065</th>\n",
              "      <td>271179</td>\n",
              "      <td>Andreș Brînzea</td>\n",
              "      <td>16</td>\n",
              "      <td>Romania</td>\n",
              "      <td>187</td>\n",
              "      <td>168</td>\n",
              "      <td>GK</td>\n",
              "      <td>50</td>\n",
              "      <td>69</td>\n",
              "      <td>0.10</td>\n",
              "      <td>Right</td>\n",
              "      <td>2</td>\n",
              "      <td>1</td>\n",
              "      <td>1</td>\n",
              "      <td>Medium</td>\n",
              "      <td>Medium</td>\n",
              "      <td>Lean (185+)</td>\n",
              "      <td>Romania</td>\n",
              "      <td>Chindia Târgovişte</td>\n",
              "      <td>64</td>\n",
              "    </tr>\n",
              "    <tr>\n",
              "      <th>22077</th>\n",
              "      <td>259213</td>\n",
              "      <td>Antonio D'Silva</td>\n",
              "      <td>22</td>\n",
              "      <td>India</td>\n",
              "      <td>182</td>\n",
              "      <td>161</td>\n",
              "      <td>GK</td>\n",
              "      <td>51</td>\n",
              "      <td>61</td>\n",
              "      <td>0.11</td>\n",
              "      <td>Right</td>\n",
              "      <td>3</td>\n",
              "      <td>1</td>\n",
              "      <td>1</td>\n",
              "      <td>Medium</td>\n",
              "      <td>Medium</td>\n",
              "      <td>Normal (170-185)</td>\n",
              "      <td>India</td>\n",
              "      <td>Odisha Fc</td>\n",
              "      <td>58</td>\n",
              "    </tr>\n",
              "  </tbody>\n",
              "</table>\n",
              "<p>2430 rows × 20 columns</p>\n",
              "</div>"
            ],
            "text/plain": [
              "       player_id                    player_name  age           country  \\\n",
              "6         192119  Thibaut Nicolas Marc Courtois   30           Belgium   \n",
              "7         212831          Alisson Ramsés Becker   29            Brazil   \n",
              "11        200389                      Jan Oblak   29          Slovenia   \n",
              "14        167495             Manuel Peter Neuer   36           Germany   \n",
              "16        230621           Gianluigi Donnarumma   23             Italy   \n",
              "...          ...                            ...  ...               ...   \n",
              "22057     256413                 Jack Lemoignan   21  Northern Ireland   \n",
              "22059     271554                    Toms Leitis   18            Latvia   \n",
              "22064     261423                    Nikhil Deka   19             India   \n",
              "22065     271179                 Andreș Brînzea   16           Romania   \n",
              "22077     259213                Antonio D'Silva   22             India   \n",
              "\n",
              "       height_cm  weight_lbs position  overall  potential  Value_millions  \\\n",
              "6            199         212       GK       90         91           90.00   \n",
              "7            193         201       GK       89         90           79.00   \n",
              "11           188         192       GK       89         90           79.00   \n",
              "14           193         205       GK       89         89           11.50   \n",
              "16           196         198       GK       88         92          103.50   \n",
              "...          ...         ...      ...      ...        ...             ...   \n",
              "22057        186         168       GK       49         60            0.09   \n",
              "22059        185         165       GK       50         65            0.09   \n",
              "22064        185         150       GK       48         61            0.10   \n",
              "22065        187         168       GK       50         69            0.10   \n",
              "22077        182         161       GK       51         61            0.11   \n",
              "\n",
              "      pref_foot  weak_foot  skill_moves  international_reputation  \\\n",
              "6          Left          3            1                         4   \n",
              "7         Right          3            1                         3   \n",
              "11        Right          3            1                         5   \n",
              "14        Right          4            1                         5   \n",
              "16        Right          3            1                         3   \n",
              "...         ...        ...          ...                       ...   \n",
              "22057     Right          3            1                         1   \n",
              "22059     Right          3            1                         1   \n",
              "22064     Right          3            1                         1   \n",
              "22065     Right          2            1                         1   \n",
              "22077     Right          3            1                         1   \n",
              "\n",
              "      Attacking_work_rate Defensive_work_rate         body_type  \\\n",
              "6                  Medium              Medium            Unique   \n",
              "7                  Medium              Medium            Unique   \n",
              "11                 Medium              Medium            Unique   \n",
              "14                 Medium              Medium            Unique   \n",
              "16                 Medium              Medium            Unique   \n",
              "...                   ...                 ...               ...   \n",
              "22057              Medium              Medium       Lean (185+)   \n",
              "22059              Medium              Medium     Normal (185+)   \n",
              "22064              Medium              Medium       Lean (185+)   \n",
              "22065              Medium              Medium       Lean (185+)   \n",
              "22077              Medium              Medium  Normal (170-185)   \n",
              "\n",
              "              club_country            club_name  club_overall  \n",
              "6                    Spain          Real Madrid            85  \n",
              "7                  England            Liverpool            84  \n",
              "11                   Spain      Atlético Madrid            83  \n",
              "14                 Germany    Fc Bayern München            85  \n",
              "16                  France  Paris Saint Germain            84  \n",
              "...                    ...                  ...           ...  \n",
              "22057     Northern Ireland           Derry City            61  \n",
              "22059  Republic of Ireland      Shamrock Rovers            63  \n",
              "22064                India     Northeast United            58  \n",
              "22065              Romania   Chindia Târgovişte            64  \n",
              "22077                India            Odisha Fc            58  \n",
              "\n",
              "[2430 rows x 20 columns]"
            ]
          },
          "execution_count": 19,
          "metadata": {},
          "output_type": "execute_result"
        }
      ],
      "source": [
        "goalkeepers"
      ]
    },
    {
      "cell_type": "markdown",
      "metadata": {},
      "source": [
        "* Then we create three categories to difference goalkeepers because: \n",
        "\n",
        "    * **Comparability**\tIt lets you group goalkeepers into meaningful physical categories.\n",
        "    * **Variance Analysis**\tANOVA needs distinct groups. We can't run ANOVA on continuous height directly.\n",
        "    * **Interpretability**\twe can explain: \"Taller goalkeepers (above 192 cm) vs Medium (185–192 cm) vs Short (below 185 cm).\"\n",
        "    * **Real-world application** Scouts and coaches think in categories: short, average, tall. This mirrors reality"
      ]
    },
    {
      "cell_type": "code",
      "execution_count": 20,
      "metadata": {
        "colab": {
          "base_uri": "https://localhost:8080/"
        },
        "id": "KRQxHpfy6oxI",
        "outputId": "482d5f23-9f82-4d5d-874d-09d84cacbd6f"
      },
      "outputs": [
        {
          "name": "stderr",
          "output_type": "stream",
          "text": [
            "/tmp/ipykernel_4284/2172611208.py:1: SettingWithCopyWarning: \n",
            "A value is trying to be set on a copy of a slice from a DataFrame.\n",
            "Try using .loc[row_indexer,col_indexer] = value instead\n",
            "\n",
            "See the caveats in the documentation: https://pandas.pydata.org/pandas-docs/stable/user_guide/indexing.html#returning-a-view-versus-a-copy\n",
            "  goalkeepers['height_category'] = pd.cut(goalkeepers['height_cm'],\n"
          ]
        }
      ],
      "source": [
        "goalkeepers['height_category'] = pd.cut(goalkeepers['height_cm'],\n",
        "                                bins=[0, 185, 192, goalkeepers['height_cm'].max()],\n",
        "                                labels=['Bajo', 'Medio', 'Alto'])"
      ]
    },
    {
      "cell_type": "code",
      "execution_count": 21,
      "metadata": {
        "colab": {
          "base_uri": "https://localhost:8080/",
          "height": 293
        },
        "id": "4H9OQR_k7k2Z",
        "outputId": "cabab726-8b59-4802-efa2-86b5c68a7c9b"
      },
      "outputs": [],
      "source": [
        "goalkeepers_filter = goalkeepers[['height_category', 'player_name', 'position', 'club_overall', 'height_cm']]"
      ]
    },
    {
      "cell_type": "code",
      "execution_count": 22,
      "metadata": {
        "colab": {
          "base_uri": "https://localhost:8080/",
          "height": 424
        },
        "id": "BJpDR-sA8K-z",
        "outputId": "74999b87-11e6-4079-a51e-b89660ce937d"
      },
      "outputs": [
        {
          "data": {
            "text/html": [
              "<div>\n",
              "<style scoped>\n",
              "    .dataframe tbody tr th:only-of-type {\n",
              "        vertical-align: middle;\n",
              "    }\n",
              "\n",
              "    .dataframe tbody tr th {\n",
              "        vertical-align: top;\n",
              "    }\n",
              "\n",
              "    .dataframe thead th {\n",
              "        text-align: right;\n",
              "    }\n",
              "</style>\n",
              "<table border=\"1\" class=\"dataframe\">\n",
              "  <thead>\n",
              "    <tr style=\"text-align: right;\">\n",
              "      <th></th>\n",
              "      <th>height_category</th>\n",
              "      <th>player_name</th>\n",
              "      <th>position</th>\n",
              "      <th>club_overall</th>\n",
              "      <th>height_cm</th>\n",
              "    </tr>\n",
              "  </thead>\n",
              "  <tbody>\n",
              "    <tr>\n",
              "      <th>6</th>\n",
              "      <td>Alto</td>\n",
              "      <td>Thibaut Nicolas Marc Courtois</td>\n",
              "      <td>GK</td>\n",
              "      <td>85</td>\n",
              "      <td>199</td>\n",
              "    </tr>\n",
              "    <tr>\n",
              "      <th>7</th>\n",
              "      <td>Alto</td>\n",
              "      <td>Alisson Ramsés Becker</td>\n",
              "      <td>GK</td>\n",
              "      <td>84</td>\n",
              "      <td>193</td>\n",
              "    </tr>\n",
              "    <tr>\n",
              "      <th>11</th>\n",
              "      <td>Medio</td>\n",
              "      <td>Jan Oblak</td>\n",
              "      <td>GK</td>\n",
              "      <td>83</td>\n",
              "      <td>188</td>\n",
              "    </tr>\n",
              "    <tr>\n",
              "      <th>14</th>\n",
              "      <td>Alto</td>\n",
              "      <td>Manuel Peter Neuer</td>\n",
              "      <td>GK</td>\n",
              "      <td>85</td>\n",
              "      <td>193</td>\n",
              "    </tr>\n",
              "    <tr>\n",
              "      <th>16</th>\n",
              "      <td>Alto</td>\n",
              "      <td>Gianluigi Donnarumma</td>\n",
              "      <td>GK</td>\n",
              "      <td>84</td>\n",
              "      <td>196</td>\n",
              "    </tr>\n",
              "    <tr>\n",
              "      <th>...</th>\n",
              "      <td>...</td>\n",
              "      <td>...</td>\n",
              "      <td>...</td>\n",
              "      <td>...</td>\n",
              "      <td>...</td>\n",
              "    </tr>\n",
              "    <tr>\n",
              "      <th>22057</th>\n",
              "      <td>Medio</td>\n",
              "      <td>Jack Lemoignan</td>\n",
              "      <td>GK</td>\n",
              "      <td>61</td>\n",
              "      <td>186</td>\n",
              "    </tr>\n",
              "    <tr>\n",
              "      <th>22059</th>\n",
              "      <td>Bajo</td>\n",
              "      <td>Toms Leitis</td>\n",
              "      <td>GK</td>\n",
              "      <td>63</td>\n",
              "      <td>185</td>\n",
              "    </tr>\n",
              "    <tr>\n",
              "      <th>22064</th>\n",
              "      <td>Bajo</td>\n",
              "      <td>Nikhil Deka</td>\n",
              "      <td>GK</td>\n",
              "      <td>58</td>\n",
              "      <td>185</td>\n",
              "    </tr>\n",
              "    <tr>\n",
              "      <th>22065</th>\n",
              "      <td>Medio</td>\n",
              "      <td>Andreș Brînzea</td>\n",
              "      <td>GK</td>\n",
              "      <td>64</td>\n",
              "      <td>187</td>\n",
              "    </tr>\n",
              "    <tr>\n",
              "      <th>22077</th>\n",
              "      <td>Bajo</td>\n",
              "      <td>Antonio D'Silva</td>\n",
              "      <td>GK</td>\n",
              "      <td>58</td>\n",
              "      <td>182</td>\n",
              "    </tr>\n",
              "  </tbody>\n",
              "</table>\n",
              "<p>2430 rows × 5 columns</p>\n",
              "</div>"
            ],
            "text/plain": [
              "      height_category                    player_name position  club_overall  \\\n",
              "6                Alto  Thibaut Nicolas Marc Courtois       GK            85   \n",
              "7                Alto          Alisson Ramsés Becker       GK            84   \n",
              "11              Medio                      Jan Oblak       GK            83   \n",
              "14               Alto             Manuel Peter Neuer       GK            85   \n",
              "16               Alto           Gianluigi Donnarumma       GK            84   \n",
              "...               ...                            ...      ...           ...   \n",
              "22057           Medio                 Jack Lemoignan       GK            61   \n",
              "22059            Bajo                    Toms Leitis       GK            63   \n",
              "22064            Bajo                    Nikhil Deka       GK            58   \n",
              "22065           Medio                 Andreș Brînzea       GK            64   \n",
              "22077            Bajo                Antonio D'Silva       GK            58   \n",
              "\n",
              "       height_cm  \n",
              "6            199  \n",
              "7            193  \n",
              "11           188  \n",
              "14           193  \n",
              "16           196  \n",
              "...          ...  \n",
              "22057        186  \n",
              "22059        185  \n",
              "22064        185  \n",
              "22065        187  \n",
              "22077        182  \n",
              "\n",
              "[2430 rows x 5 columns]"
            ]
          },
          "execution_count": 22,
          "metadata": {},
          "output_type": "execute_result"
        }
      ],
      "source": [
        "goalkeepers_filter"
      ]
    },
    {
      "cell_type": "code",
      "execution_count": null,
      "metadata": {
        "colab": {
          "base_uri": "https://localhost:8080/",
          "height": 383
        },
        "id": "axtxplzu9JDN",
        "outputId": "0a4d63fe-f988-43fc-c95f-d415e9752b68"
      },
      "outputs": [
        {
          "data": {
            "image/png": "[encoded data removed]",
            "text/plain": [
              "<Figure size 1000x600 with 1 Axes>"
            ]
          },
          "metadata": {},
          "output_type": "display_data"
        }
      ],
      "source": [
        "plt.figure(figsize=(10, 6))\n",
        "sns.scatterplot(data=goalkeepers_filter, x='height_cm', y='club_overall', hue='position') \n",
        "plt.title('Relación entre Estatura y Overall')\n",
        "plt.xlabel('Estatura (cm)')\n",
        "plt.ylabel('Overall')\n",
        "plt.grid(True)\n",
        "plt.show()"
      ]
    },
    {
      "cell_type": "markdown",
      "metadata": {},
      "source": [
        "* ***Check group statistics***"
      ]
    },
    {
      "cell_type": "code",
      "execution_count": 24,
      "metadata": {},
      "outputs": [
        {
          "name": "stderr",
          "output_type": "stream",
          "text": [
            "/tmp/ipykernel_4284/2764186075.py:1: FutureWarning: The default of observed=False is deprecated and will be changed to True in a future version of pandas. Pass observed=False to retain current behavior or observed=True to adopt the future default and silence this warning.\n",
            "  goalkeepers.groupby('height_category')['club_overall'].describe()\n"
          ]
        },
        {
          "data": {
            "text/html": [
              "<div>\n",
              "<style scoped>\n",
              "    .dataframe tbody tr th:only-of-type {\n",
              "        vertical-align: middle;\n",
              "    }\n",
              "\n",
              "    .dataframe tbody tr th {\n",
              "        vertical-align: top;\n",
              "    }\n",
              "\n",
              "    .dataframe thead th {\n",
              "        text-align: right;\n",
              "    }\n",
              "</style>\n",
              "<table border=\"1\" class=\"dataframe\">\n",
              "  <thead>\n",
              "    <tr style=\"text-align: right;\">\n",
              "      <th></th>\n",
              "      <th>count</th>\n",
              "      <th>mean</th>\n",
              "      <th>std</th>\n",
              "      <th>min</th>\n",
              "      <th>25%</th>\n",
              "      <th>50%</th>\n",
              "      <th>75%</th>\n",
              "      <th>max</th>\n",
              "    </tr>\n",
              "    <tr>\n",
              "      <th>height_category</th>\n",
              "      <th></th>\n",
              "      <th></th>\n",
              "      <th></th>\n",
              "      <th></th>\n",
              "      <th></th>\n",
              "      <th></th>\n",
              "      <th></th>\n",
              "      <th></th>\n",
              "    </tr>\n",
              "  </thead>\n",
              "  <tbody>\n",
              "    <tr>\n",
              "      <th>Bajo</th>\n",
              "      <td>649.0</td>\n",
              "      <td>67.029276</td>\n",
              "      <td>4.519922</td>\n",
              "      <td>54.0</td>\n",
              "      <td>64.0</td>\n",
              "      <td>67.0</td>\n",
              "      <td>69.0</td>\n",
              "      <td>85.0</td>\n",
              "    </tr>\n",
              "    <tr>\n",
              "      <th>Medio</th>\n",
              "      <td>1264.0</td>\n",
              "      <td>68.958861</td>\n",
              "      <td>5.381993</td>\n",
              "      <td>0.0</td>\n",
              "      <td>65.0</td>\n",
              "      <td>69.0</td>\n",
              "      <td>72.0</td>\n",
              "      <td>85.0</td>\n",
              "    </tr>\n",
              "    <tr>\n",
              "      <th>Alto</th>\n",
              "      <td>517.0</td>\n",
              "      <td>69.363636</td>\n",
              "      <td>5.395885</td>\n",
              "      <td>55.0</td>\n",
              "      <td>65.0</td>\n",
              "      <td>69.0</td>\n",
              "      <td>73.0</td>\n",
              "      <td>85.0</td>\n",
              "    </tr>\n",
              "  </tbody>\n",
              "</table>\n",
              "</div>"
            ],
            "text/plain": [
              "                  count       mean       std   min   25%   50%   75%   max\n",
              "height_category                                                           \n",
              "Bajo              649.0  67.029276  4.519922  54.0  64.0  67.0  69.0  85.0\n",
              "Medio            1264.0  68.958861  5.381993   0.0  65.0  69.0  72.0  85.0\n",
              "Alto              517.0  69.363636  5.395885  55.0  65.0  69.0  73.0  85.0"
            ]
          },
          "execution_count": 24,
          "metadata": {},
          "output_type": "execute_result"
        }
      ],
      "source": [
        "goalkeepers.groupby('height_category')['club_overall'].describe()"
      ]
    },
    {
      "cell_type": "code",
      "execution_count": 25,
      "metadata": {},
      "outputs": [
        {
          "data": {
            "image/png": "[encoded data removed]",
            "text/plain": [
              "<Figure size 640x480 with 1 Axes>"
            ]
          },
          "metadata": {},
          "output_type": "display_data"
        }
      ],
      "source": [
        "sns.boxplot(data=goalkeepers_filter, x='height_category', y='club_overall')\n",
        "plt.title('Goalkeeper Overall Rating by Height Category')\n",
        "plt.show()"
      ]
    },
    {
      "cell_type": "code",
      "execution_count": 26,
      "metadata": {},
      "outputs": [
        {
          "data": {
            "image/png": "[encoded data removed]",
            "text/plain": [
              "<Figure size 400x400 with 1 Axes>"
            ]
          },
          "metadata": {},
          "output_type": "display_data"
        },
        {
          "data": {
            "image/png": "[encoded data removed]",
            "text/plain": [
              "<Figure size 400x400 with 1 Axes>"
            ]
          },
          "metadata": {},
          "output_type": "display_data"
        },
        {
          "data": {
            "image/png": "[encoded data removed]",
            "text/plain": [
              "<Figure size 400x400 with 1 Axes>"
            ]
          },
          "metadata": {},
          "output_type": "display_data"
        }
      ],
      "source": [
        "for category in ['Bajo', 'Medio', 'Alto']:\n",
        "    plt.figure(figsize=(4, 4))\n",
        "    sns.histplot(goalkeepers_filter[goalkeepers_filter['height_category'] == category]['club_overall'], kde=True)\n",
        "    plt.title(f'Overall Distribution - {category} Goalkeepers')\n",
        "    plt.xlabel('Overall')\n",
        "    plt.show()"
      ]
    },
    {
      "cell_type": "markdown",
      "metadata": {},
      "source": [
        "The distributions are close to normal (especially for \"Alto\" and \"Medio\"), so ANOVA is appropriate."
      ]
    },
    {
      "cell_type": "markdown",
      "metadata": {},
      "source": [
        "* **We are going to use a ANOVA (Analysis of Variance) because:**\n",
        "\n",
        "    It allows us to statistically compare the means of three or more independent groups (in our case: Short, Medium, Tall goalkeepers) to determine if at least one group has a significantly different mean overall rating."
      ]
    },
    {
      "cell_type": "code",
      "execution_count": 33,
      "metadata": {},
      "outputs": [
        {
          "name": "stdout",
          "output_type": "stream",
          "text": [
            "F-statistic: 38.42695710554377\n",
            "p-value: 3.7167923081114694e-17\n",
            "At least one group has a significantly different overall.\n"
          ]
        }
      ],
      "source": [
        "short = goalkeepers_filter[goalkeepers_filter['height_category'] == 'Bajo']['club_overall']\n",
        "medium = goalkeepers_filter[goalkeepers_filter['height_category'] == 'Medio']['club_overall']\n",
        "tall = goalkeepers_filter[goalkeepers_filter['height_category'] == 'Alto']['club_overall']\n",
        "\n",
        "f_stat, p_value = f_oneway(short, medium, tall)\n",
        "print(\"F-statistic:\", f_stat)\n",
        "print(\"p-value:\", p_value)\n",
        "if p_value < 0.05:\n",
        "    print(\"At least one group has a significantly different overall.\")\n",
        "else:\n",
        "    print(\" No evidence of a significant difference.\")"
      ]
    },
    {
      "cell_type": "markdown",
      "metadata": {},
      "source": [
        "We performed an ANOVA test to determine whether the mean overall rating differs among goalkeeper height categories (Short, Medium, Tall).\n",
        "The result (F=38.42695710554377, p < 3.7167923081114694e-17) showed a statistically significant difference"
      ]
    },
    {
      "cell_type": "markdown",
      "metadata": {},
      "source": [
        "## 4. **An analyst claims that **left-footed players** have **better performance (overall)** than right-footed ones. What can you say about this statement based on descriptive analysis**?\n",
        "\n"
      ]
    },
    {
      "cell_type": "markdown",
      "metadata": {},
      "source": []
    }
  ],
  "metadata": {
    "colab": {
      "provenance": []
    },
    "kernelspec": {
      "display_name": "venv",
      "language": "python",
      "name": "python3"
    },
    "language_info": {
      "codemirror_mode": {
        "name": "ipython",
        "version": 3
      },
      "file_extension": ".py",
      "mimetype": "text/x-python",
      "name": "python",
      "nbconvert_exporter": "python",
      "pygments_lexer": "ipython3",
      "version": "3.12.3"
    }
  },
  "nbformat": 4,
  "nbformat_minor": 0
}
